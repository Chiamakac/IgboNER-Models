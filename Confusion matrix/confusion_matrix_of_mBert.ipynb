{
  "cells": [
    {
      "cell_type": "markdown",
      "metadata": {
        "id": "view-in-github",
        "colab_type": "text"
      },
      "source": [
        "<a href=\"https://colab.research.google.com/github/Chiamakac/IgboNER-Models/blob/main/Confusion%20matrix/confusion_matrix_of_mBert.ipynb\" target=\"_parent\"><img src=\"https://colab.research.google.com/assets/colab-badge.svg\" alt=\"Open In Colab\"/></a>"
      ]
    },
    {
      "cell_type": "markdown",
      "metadata": {
        "id": "RPvJsQFm6xk-"
      },
      "source": [
        "**Install the Transformers and Datasets libraries to run this notebook.**"
      ]
    },
    {
      "cell_type": "code",
      "execution_count": null,
      "metadata": {
        "id": "pnd-ZGjN6xlB"
      },
      "outputs": [],
      "source": [
        "!pip install transformers\n",
        "!pip install datasets\n",
        "\n",
        "import transformers\n",
        "from datasets import load_dataset"
      ]
    },
    {
      "cell_type": "code",
      "execution_count": null,
      "metadata": {
        "id": "5Dwa6lCN6xlr"
      },
      "outputs": [],
      "source": [
        "#We use the load_dataset() method from the Datasets library to download our dataset.\n",
        "raw_datasets = load_dataset('masakhaner', 'ibo')#replace with your dataset name"
      ]
    },
    {
      "cell_type": "code",
      "source": [
        "#We mount the gdrive where our model checkpoint is saved.\n",
        "from google.colab import drive\n",
        "\n",
        "drive.mount('/content/gdrive')"
      ],
      "metadata": {
        "colab": {
          "base_uri": "https://localhost:8080/"
        },
        "id": "VxTGFHWUN5_q",
        "outputId": "2d2fa6d9-7e79-44f4-f8f1-7053eea1fedc"
      },
      "execution_count": 3,
      "outputs": [
        {
          "output_type": "stream",
          "name": "stdout",
          "text": [
            "Mounted at /content/gdrive\n"
          ]
        }
      ]
    },
    {
      "cell_type": "code",
      "source": [
        "#Describe the model path\n",
        "# Replace this with your own model path\n",
        "MODEL_PATH = \"/content/gdrive/MyDrive/IBO_BETA/ LREC FINAL TRAINING/bert-base-multilingual-cased checkpoint-5600\""
      ],
      "metadata": {
        "id": "qF6miayvN997"
      },
      "execution_count": 4,
      "outputs": []
    },
    {
      "cell_type": "code",
      "source": [
        "#Using the fine-tuned model\n",
        "from transformers import pipeline\n",
        "\n",
        "# Replace this with your own checkpoint\n",
        "model_checkpoint = \"/content/gdrive/MyDrive/IBO_BETA/ LREC FINAL TRAINING/bert-base-multilingual-cased checkpoint-5600\"\n",
        "token_classifier = pipeline(\n",
        "    \"token-classification\", model=model_checkpoint, aggregation_strategy=\"simple\"\n",
        ")"
      ],
      "metadata": {
        "id": "RrUhfaibrzU2"
      },
      "execution_count": 5,
      "outputs": []
    },
    {
      "cell_type": "code",
      "source": [
        "def get_actual_tags(word, tag):\n",
        "  if ' ' in word:\n",
        "    words = word.split()\n",
        "    return [(words[0], f\"B-{tag}\")]+[(w,  f\"I-{tag}\") for w in words[1:]]\n",
        "  else:\n",
        "    return [(word, f\"B-{tag}\")]"
      ],
      "metadata": {
        "id": "rSG-Y549ATwn"
      },
      "execution_count": 6,
      "outputs": []
    },
    {
      "cell_type": "code",
      "execution_count": 7,
      "metadata": {
        "id": "SpuKq5Bx6xme",
        "outputId": "3df79115-9e53-46e8-f7cb-1fcb9d391c9b",
        "colab": {
          "base_uri": "https://localhost:8080/"
        }
      },
      "outputs": [
        {
          "output_type": "execute_result",
          "data": {
            "text/plain": [
              "Sequence(feature=ClassLabel(num_classes=9, names=['O', 'B-PER', 'I-PER', 'B-ORG', 'I-ORG', 'B-LOC', 'I-LOC', 'B-DATE', 'I-DATE'], names_file=None, id=None), length=-1, id=None)"
            ]
          },
          "metadata": {},
          "execution_count": 7
        }
      ],
      "source": [
        "#Have a look at the features attribute of our dataset\n",
        "ner_feature = raw_datasets[\"train\"].features[\"ner_tags\"]\n",
        "ner_feature"
      ]
    },
    {
      "cell_type": "code",
      "execution_count": 8,
      "metadata": {
        "id": "igweOAb-6xmh",
        "outputId": "1b5b2d0b-921d-4865-ebd5-966c1ca75dfb",
        "colab": {
          "base_uri": "https://localhost:8080/"
        }
      },
      "outputs": [
        {
          "output_type": "execute_result",
          "data": {
            "text/plain": [
              "['O', 'B-PER', 'I-PER', 'B-ORG', 'I-ORG', 'B-LOC', 'I-LOC', 'B-DATE', 'I-DATE']"
            ]
          },
          "metadata": {},
          "execution_count": 8
        }
      ],
      "source": [
        "#we can access the list of names by looking at the names attribute of that feature\n",
        "label_names = ner_feature.feature.names\n",
        "label_names"
      ]
    },
    {
      "cell_type": "code",
      "execution_count": 9,
      "metadata": {
        "id": "IVf57nSO6xmK",
        "colab": {
          "base_uri": "https://localhost:8080/"
        },
        "outputId": "817972fd-dc1c-4fc0-bdf2-6eb2e93c0335"
      },
      "outputs": [
        {
          "output_type": "stream",
          "name": "stderr",
          "text": [
            "Asking to truncate to max_length but no maximum length is provided and the model has no predefined maximum length. Default to no truncation.\n"
          ]
        }
      ],
      "source": [
        "#Preparing our actual and predicted tags\n",
        "actual_tags, predicted_tags = [], []\n",
        "for i in range(len(raw_datasets['test'])): \n",
        "  actual_tags.extend(raw_datasets['test'][i]['ner_tags']) # actual_tags += raw_datasets['test'][i]['ner_tags']\n",
        "  sent = ' '.join(raw_datasets['test'][i]['tokens'])\n",
        "  preds = [(i['word'].strip(),i['entity_group']) for i in token_classifier(sent)]\n",
        "  results=[]\n",
        "  for r in preds: results.extend(get_actual_tags(r[0], r[1]))\n",
        "  results_dict = {w:t for w,t in results}  #not sure this is a good idea...\n",
        "  predicted_tags.extend([label_names.index(results_dict[w]) if w in results_dict else label_names.index(\"O\") for w in sent.split()])"
      ]
    },
    {
      "cell_type": "markdown",
      "source": [
        "**We can create the confusion matrix using the confusion_matrix() method from sklearn.metrics package.** "
      ],
      "metadata": {
        "id": "LmMw0gBpcxPX"
      }
    },
    {
      "cell_type": "code",
      "source": [
        "from sklearn.metrics import confusion_matrix\n",
        "from sklearn.metrics import classification_report"
      ],
      "metadata": {
        "id": "wsuiC3tnnrs-"
      },
      "execution_count": 10,
      "outputs": []
    },
    {
      "cell_type": "code",
      "source": [
        "confusion_matrix(actual_tags,predicted_tags)"
      ],
      "metadata": {
        "id": "qrUqLZzWq9zH"
      },
      "execution_count": null,
      "outputs": []
    },
    {
      "cell_type": "markdown",
      "source": [
        "**Plotting a confusion matrix with matplotlib and seaborn**"
      ],
      "metadata": {
        "id": "3T8JQZshdHYL"
      }
    },
    {
      "cell_type": "code",
      "source": [
        "import numpy as np\n",
        "import matplotlib.pyplot as plt\n",
        "import seaborn as sn\n",
        "import pandas as pd\n",
        "\n",
        "import seaborn as sns\n",
        "import math\n",
        "\n",
        "from mpl_toolkits.axes_grid1 import make_axes_locatable\n",
        "\n",
        "import matplotlib as mpl\n",
        "\n",
        "mpl.style.use('seaborn')\n",
        "\n",
        "conf_arr = np.array([[10694,    20,    10,    11,     6,    15,    11,    15,    39],\n",
        "                     [   31,   300,     5,     2,     0,     7,     0,     0,     0],\n",
        "                     [    8,    13,   201,     2,     0,     1,     1,     0,     0],\n",
        "                     [   11,    11,     0,   311,     1,    15,     1,     1,     0],\n",
        "                     [   23,     0,     1,     6,    88,     0,     8,     0,     0],\n",
        "                     [   15,     4,     2,     0,     3,   313,     1,     0,     0],\n",
        "                     [   12,     1,     1,     0,     0,     5,    80,     0,     0],\n",
        "                     [   13,     0,     0,     0,     0,     2,     0,   121,     9],\n",
        "                     [   29,     0,     0,     0,     0,     0,     1,     5,   159]])\n",
        "\n",
        "sum = conf_arr.sum()\n",
        "\n",
        "conf_arr = conf_arr * 100.0 / ( 1.0 * sum )\n",
        "\n",
        "df_cm = pd.DataFrame(conf_arr, \n",
        "  index = [ 'O', 'B-PER', 'I-PER', 'B-ORG', 'I-ORG', 'B-LOC', 'I-LOC', 'B-DATE', 'I-DATE'],\n",
        "  columns = ['O', 'B-PER', 'I-PER', 'B-ORG', 'I-ORG', 'B-LOC', 'I-LOC', 'B-DATE', 'I-DATE'])\n",
        "fig = plt.figure()\n",
        "plt.clf()\n",
        "\n",
        "ax = fig.add_subplot(111)\n",
        "ax.set_aspect(1)\n",
        "\n",
        "cmap = sns.cubehelix_palette(light=1, as_cmap=True)\n",
        "\n",
        "res = sn.heatmap(df_cm, annot=True, vmin=0.0, vmax=100.0, fmt='.2f', cmap='gist_earth_r')\n",
        "\n",
        "res.invert_yaxis()\n",
        "\n",
        "plt.yticks([0.5,1.5,2.5,3.5,4.5,5.5,6.5,7.5,8.5], [ 'O', 'B-PER', 'I-PER', 'B-ORG', 'I-ORG', 'B-LOC', 'I-LOC', 'B-DATE', 'I-DATE'],va='center')\n",
        "\n",
        "plt.title('(b)  IgbomBERT Confusion matrix')\n",
        "\n",
        "plt.savefig('confusion_matrix.png', dpi=100, bbox_inches='tight' )\n",
        "\n",
        "plt.show()"
      ],
      "metadata": {
        "colab": {
          "base_uri": "https://localhost:8080/",
          "height": 388
        },
        "id": "keFIwAGgIRic",
        "outputId": "ba818b27-a532-452c-db20-c8b1c724416e"
      },
      "execution_count": 2,
      "outputs": [
        {
          "output_type": "display_data",
          "data": {
            "image/png": "[encoded data removed]",
            "text/plain": [
              "<Figure size 576x396 with 2 Axes>"
            ]
          },
          "metadata": {}
        }
      ]
    }
  ],
  "metadata": {
    "colab": {
      "name": "confusion matrix of mBert    ",
      "provenance": [],
      "include_colab_link": true
    },
    "language_info": {
      "name": "python"
    },
    "kernelspec": {
      "name": "python3",
      "display_name": "Python 3"
    },
    "accelerator": "GPU"
  },
  "nbformat": 4,
  "nbformat_minor": 0
}